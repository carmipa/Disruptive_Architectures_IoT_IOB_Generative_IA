{
  "cells": [
    {
      "cell_type": "markdown",
      "metadata": {
        "id": "js64hA40w-Sl"
      },
      "source": [
        "<a href=\"https://colab.research.google.com/github/arnaldojr/DisruptiveArchitectures/blob/master/material/aulas/IA/lab05/validacaocruzada.ipynb\" target=\"_parent\"><img src=\"https://colab.research.google.com/assets/colab-badge.svg\" alt=\"Open In Colab\"/></a>"
      ]
    },
    {
      "cell_type": "markdown",
      "metadata": {
        "id": "WI9gvuBJw-Sw"
      },
      "source": [
        "## Validação Cruzada\n",
        "\n",
        "### Objetivos\n",
        "\n",
        "  - Entender e praticar validação cruzada: kfold.\n",
        "\n",
        "\n",
        "A técnica de validação cruzada consiste em dividir em partes pequenas (fold) a base de dados e realizar diversos treinamentos e validações com partes diferente de treinamento e teste, ao final é feita a média e o desvio padrão do aprendizado.\n",
        "\n",
        "Prós:\n",
        "  - Normalmente aumenta a performance do modelo.\n",
        "  - Reduz aleatoriedade, reduz viez.\n",
        "\n",
        "Contra:\n",
        "  - Mais processamento computacional.\n",
        "  \n",
        "Dicas:\n",
        "  - A escolha do `k` numero de folds é determinada tipicamente como sendo 5 ou 10."
      ]
    },
    {
      "cell_type": "markdown",
      "metadata": {
        "id": "vImrugj_w-Sz"
      },
      "source": [
        "## Diagrama do kfold\n",
        "\n",
        "<img src=\"https://github.com/arnaldojr/DisruptiveArchitectures/blob/master/material/aulas/IA/lab05/07_cross_validation_diagram.png?raw=1\" width=\"450\">\n"
      ]
    },
    {
      "cell_type": "code",
      "execution_count": null,
      "metadata": {
        "id": "QrYCuFk4w-S0"
      },
      "outputs": [],
      "source": [
        "from sklearn.datasets import load_iris\n",
        "from sklearn.model_selection import train_test_split\n",
        "from sklearn.neighbors import KNeighborsClassifier\n",
        "from sklearn import metrics"
      ]
    },
    {
      "cell_type": "code",
      "execution_count": null,
      "metadata": {
        "id": "Q9TTIqTqw-S3"
      },
      "outputs": [],
      "source": [
        "# importa o dataset iris\n",
        "iris = load_iris()\n",
        "\n",
        "# separa os dados em atributos (x) e alvo (y)\n",
        "X = iris.data\n",
        "y = iris.target"
      ]
    },
    {
      "cell_type": "code",
      "execution_count": null,
      "metadata": {
        "id": "d68dXmo0w-S5",
        "outputId": "1544e6cc-c2ba-48a9-ad0d-a9d5e38cbc25",
        "colab": {
          "base_uri": "https://localhost:8080/"
        }
      },
      "outputs": [
        {
          "output_type": "stream",
          "name": "stdout",
          "text": [
            "Acuracia:  0.9\n"
          ]
        }
      ],
      "source": [
        "# divide os dados em treino e teste\n",
        "X_train, X_test, y_train, y_test = train_test_split(X, y, test_size=0.2, random_state=7)\n",
        "\n",
        "# treina o modelo com knn=15\n",
        "knn = KNeighborsClassifier(n_neighbors=15)\n",
        "knn.fit(X_train, y_train)\n",
        "y_pred = knn.predict(X_test)\n",
        "\n",
        "# resultado da acuracia\n",
        "metrics.accuracy_score(y_test, y_pred)\n",
        "\n",
        "print(\"Acuracia: \", metrics.accuracy_score(y_test, y_pred))\n"
      ]
    },
    {
      "cell_type": "markdown",
      "metadata": {
        "id": "28O9w_EAw-S8"
      },
      "source": [
        "## Melhorando o modelo\n",
        "\n",
        "Até aqui, sem novidades! Mas... como ficaria o resultado se os grupos de teste e treino fossem alterados? vamos descobrir usando o kfold e crossvalidation.\n"
      ]
    },
    {
      "cell_type": "code",
      "execution_count": null,
      "metadata": {
        "id": "EjyLuk9aw-S9"
      },
      "outputs": [],
      "source": [
        "from sklearn.model_selection import KFold\n",
        "\n",
        "crossvalidation = KFold(n_splits=10,shuffle=True, random_state=7)\n",
        "\n",
        "knn = KNeighborsClassifier(n_neighbors=5)"
      ]
    },
    {
      "cell_type": "code",
      "execution_count": null,
      "metadata": {
        "id": "DDUiDUCkw-S-",
        "outputId": "6a113b39-f46c-4b7b-fa9b-2697c73edc68",
        "colab": {
          "base_uri": "https://localhost:8080/"
        }
      },
      "outputs": [
        {
          "output_type": "stream",
          "name": "stdout",
          "text": [
            "Array do kfold com os resultados:  [0.86666667 0.86666667 1.         1.         1.         1.\n",
            " 1.         0.93333333 0.93333333 0.93333333]\n"
          ]
        }
      ],
      "source": [
        "from sklearn.model_selection import cross_val_score\n",
        "\n",
        "scores = cross_val_score(knn, X, y, cv=crossvalidation, scoring='accuracy')\n",
        "print(\"Array do kfold com os resultados: \",scores)"
      ]
    },
    {
      "cell_type": "code",
      "execution_count": null,
      "metadata": {
        "id": "zpaqHj-jw-S_",
        "outputId": "4a0e786c-1efb-41cc-f034-ee02f0895ce3",
        "colab": {
          "base_uri": "https://localhost:8080/"
        }
      },
      "outputs": [
        {
          "output_type": "stream",
          "name": "stdout",
          "text": [
            "Acuracia média com kfold:  0.9533333333333334\n"
          ]
        }
      ],
      "source": [
        "print(\"Acuracia média com kfold: \",scores.mean())"
      ]
    },
    {
      "cell_type": "markdown",
      "metadata": {
        "id": "GA5l4t_Mw-TA"
      },
      "source": [
        "## Desafio\n",
        "\n",
        "Pergunta: O Resultado foi praticamente o mesmo, por que?\n"
      ]
    },
    {
      "cell_type": "code",
      "execution_count": null,
      "metadata": {
        "id": "JDtMY52Nw-TB"
      },
      "outputs": [],
      "source": [
        "## Sua resposta aqui....\n",
        "\n",
        "\n",
        "\n"
      ]
    },
    {
      "cell_type": "markdown",
      "metadata": {
        "id": "XypGRtVFw-TB"
      },
      "source": [
        "## Bonus: Outras técnicas de avaliação de modelo\n",
        "\n",
        "- `StratifiedKFold` = Lida melhor com dados desbalanceados, ou seja, possui uma diferça grande entre as frequencias das classes, pois tentar manter a mesma proporção em todos os folds.\n",
        "\n",
        "\n",
        "- `ShuffleSplit` = Gera folds aleatorios de treino e teste a cada iteração. Um cuidado, pode ser que entre uma iteração e outra os mesmos dados sejam selecionados\n"
      ]
    }
  ],
  "metadata": {
    "interpreter": {
      "hash": "916dbcbb3f70747c44a77c7bcd40155683ae19c65e1c03b4aa3499c5328201f1"
    },
    "kernelspec": {
      "display_name": "Python 3",
      "language": "python",
      "name": "python3"
    },
    "language_info": {
      "codemirror_mode": {
        "name": "ipython",
        "version": 3
      },
      "file_extension": ".py",
      "mimetype": "text/x-python",
      "name": "python",
      "nbconvert_exporter": "python",
      "pygments_lexer": "ipython3",
      "version": "3.9.6"
    },
    "colab": {
      "provenance": []
    }
  },
  "nbformat": 4,
  "nbformat_minor": 0
}